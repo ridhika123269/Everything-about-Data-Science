{
 "cells": [
  {
   "cell_type": "code",
   "execution_count": 1,
   "id": "7ea042a2",
   "metadata": {},
   "outputs": [
    {
     "name": "stderr",
     "output_type": "stream",
     "text": [
      "[*********************100%***********************]  1 of 1 completed\n"
     ]
    }
   ],
   "source": [
    "import yfinance as yf\n",
    "import matplotlib.pyplot as plt\n",
    "import warnings\n",
    "warnings.filterwarnings('ignore')\n",
    "\n",
    "stock_data = yf.download('AAPL', start = '2024-01-01', end = '2024-08-01')"
   ]
  },
  {
   "cell_type": "code",
   "execution_count": 2,
   "id": "668881e9",
   "metadata": {},
   "outputs": [
    {
     "data": {
      "text/html": [
       "<div>\n",
       "<style scoped>\n",
       "    .dataframe tbody tr th:only-of-type {\n",
       "        vertical-align: middle;\n",
       "    }\n",
       "\n",
       "    .dataframe tbody tr th {\n",
       "        vertical-align: top;\n",
       "    }\n",
       "\n",
       "    .dataframe thead tr th {\n",
       "        text-align: left;\n",
       "    }\n",
       "\n",
       "    .dataframe thead tr:last-of-type th {\n",
       "        text-align: right;\n",
       "    }\n",
       "</style>\n",
       "<table border=\"1\" class=\"dataframe\">\n",
       "  <thead>\n",
       "    <tr>\n",
       "      <th>Price</th>\n",
       "      <th>Close</th>\n",
       "      <th>High</th>\n",
       "      <th>Low</th>\n",
       "      <th>Open</th>\n",
       "      <th>Volume</th>\n",
       "    </tr>\n",
       "    <tr>\n",
       "      <th>Ticker</th>\n",
       "      <th>AAPL</th>\n",
       "      <th>AAPL</th>\n",
       "      <th>AAPL</th>\n",
       "      <th>AAPL</th>\n",
       "      <th>AAPL</th>\n",
       "    </tr>\n",
       "    <tr>\n",
       "      <th>Date</th>\n",
       "      <th></th>\n",
       "      <th></th>\n",
       "      <th></th>\n",
       "      <th></th>\n",
       "      <th></th>\n",
       "    </tr>\n",
       "  </thead>\n",
       "  <tbody>\n",
       "    <tr>\n",
       "      <th>2024-01-02</th>\n",
       "      <td>184.081497</td>\n",
       "      <td>186.857993</td>\n",
       "      <td>182.346189</td>\n",
       "      <td>185.578815</td>\n",
       "      <td>82488700</td>\n",
       "    </tr>\n",
       "    <tr>\n",
       "      <th>2024-01-03</th>\n",
       "      <td>182.703186</td>\n",
       "      <td>184.319507</td>\n",
       "      <td>181.890063</td>\n",
       "      <td>182.673439</td>\n",
       "      <td>58414500</td>\n",
       "    </tr>\n",
       "    <tr>\n",
       "      <th>2024-01-04</th>\n",
       "      <td>180.382828</td>\n",
       "      <td>181.552914</td>\n",
       "      <td>179.361476</td>\n",
       "      <td>180.620803</td>\n",
       "      <td>71983600</td>\n",
       "    </tr>\n",
       "    <tr>\n",
       "      <th>2024-01-05</th>\n",
       "      <td>179.658936</td>\n",
       "      <td>181.225673</td>\n",
       "      <td>178.657420</td>\n",
       "      <td>180.462148</td>\n",
       "      <td>62379700</td>\n",
       "    </tr>\n",
       "    <tr>\n",
       "      <th>2024-01-08</th>\n",
       "      <td>184.002197</td>\n",
       "      <td>184.041870</td>\n",
       "      <td>179.976284</td>\n",
       "      <td>180.561327</td>\n",
       "      <td>59144500</td>\n",
       "    </tr>\n",
       "    <tr>\n",
       "      <th>2024-01-09</th>\n",
       "      <td>183.585709</td>\n",
       "      <td>183.595619</td>\n",
       "      <td>181.195937</td>\n",
       "      <td>182.375950</td>\n",
       "      <td>42841800</td>\n",
       "    </tr>\n",
       "    <tr>\n",
       "      <th>2024-01-10</th>\n",
       "      <td>184.626892</td>\n",
       "      <td>184.835121</td>\n",
       "      <td>182.375945</td>\n",
       "      <td>182.802343</td>\n",
       "      <td>46792900</td>\n",
       "    </tr>\n",
       "    <tr>\n",
       "      <th>2024-01-11</th>\n",
       "      <td>184.031921</td>\n",
       "      <td>185.479671</td>\n",
       "      <td>182.078459</td>\n",
       "      <td>184.973943</td>\n",
       "      <td>49128400</td>\n",
       "    </tr>\n",
       "    <tr>\n",
       "      <th>2024-01-12</th>\n",
       "      <td>184.359146</td>\n",
       "      <td>185.172269</td>\n",
       "      <td>183.635279</td>\n",
       "      <td>184.497970</td>\n",
       "      <td>40477800</td>\n",
       "    </tr>\n",
       "    <tr>\n",
       "      <th>2024-01-16</th>\n",
       "      <td>182.088379</td>\n",
       "      <td>182.713080</td>\n",
       "      <td>179.411034</td>\n",
       "      <td>180.630719</td>\n",
       "      <td>65603000</td>\n",
       "    </tr>\n",
       "  </tbody>\n",
       "</table>\n",
       "</div>"
      ],
      "text/plain": [
       "Price            Close        High         Low        Open    Volume\n",
       "Ticker            AAPL        AAPL        AAPL        AAPL      AAPL\n",
       "Date                                                                \n",
       "2024-01-02  184.081497  186.857993  182.346189  185.578815  82488700\n",
       "2024-01-03  182.703186  184.319507  181.890063  182.673439  58414500\n",
       "2024-01-04  180.382828  181.552914  179.361476  180.620803  71983600\n",
       "2024-01-05  179.658936  181.225673  178.657420  180.462148  62379700\n",
       "2024-01-08  184.002197  184.041870  179.976284  180.561327  59144500\n",
       "2024-01-09  183.585709  183.595619  181.195937  182.375950  42841800\n",
       "2024-01-10  184.626892  184.835121  182.375945  182.802343  46792900\n",
       "2024-01-11  184.031921  185.479671  182.078459  184.973943  49128400\n",
       "2024-01-12  184.359146  185.172269  183.635279  184.497970  40477800\n",
       "2024-01-16  182.088379  182.713080  179.411034  180.630719  65603000"
      ]
     },
     "execution_count": 2,
     "metadata": {},
     "output_type": "execute_result"
    }
   ],
   "source": [
    "stock_data.head(10)"
   ]
  },
  {
   "cell_type": "code",
   "execution_count": 9,
   "id": "0228a612",
   "metadata": {},
   "outputs": [],
   "source": [
    "from statsmodels.tsa.stattools import adfuller\n",
    "from statsmodels.tsa.stattools import kpss\n",
    "\n",
    "#Function for ADF testing\n",
    "def adf_test(series):\n",
    "    result = adfuller(series)\n",
    "    print(\"ADF Statistic: \", result[0])\n",
    "    print(\"p-value: \", result[1])\n",
    "    for key, value in result[4].items():\n",
    "        print(\"Critical value (%s): %.3f\" % (key, value))\n",
    "\n",
    "\n",
    "def kpss_test(series):\n",
    "    result = kpss(series)\n",
    "    print(f\"ADF Statistic: \", result[0])\n",
    "    print(f\"p-value: \", result[1])\n",
    "    for key, value in result[4].items():\n",
    "        print(\"Critical value (%s): %.3f\" % (key, value))"
   ]
  },
  {
   "cell_type": "code",
   "execution_count": null,
   "id": "a1c0b9e5",
   "metadata": {},
   "outputs": [
    {
     "name": "stdout",
     "output_type": "stream",
     "text": [
      "ADF Statistic:  -0.16185773335458034\n",
      "p-value:  0.9429179799860788\n",
      "Critical value (1%): -3.476\n",
      "Critical value (5%): -2.882\n",
      "Critical value (10%): -2.578\n"
     ]
    }
   ],
   "source": [
    "prices = stock_data['Close']\n",
    "adf_test(prices)\n",
    "\n",
    "#p-value is way bigger than 0.05 therefore its non stationary data"
   ]
  },
  {
   "cell_type": "code",
   "execution_count": 12,
   "id": "7bc4dd9b",
   "metadata": {},
   "outputs": [
    {
     "data": {
      "text/html": [
       "<div>\n",
       "<style scoped>\n",
       "    .dataframe tbody tr th:only-of-type {\n",
       "        vertical-align: middle;\n",
       "    }\n",
       "\n",
       "    .dataframe tbody tr th {\n",
       "        vertical-align: top;\n",
       "    }\n",
       "\n",
       "    .dataframe thead th {\n",
       "        text-align: right;\n",
       "    }\n",
       "</style>\n",
       "<table border=\"1\" class=\"dataframe\">\n",
       "  <thead>\n",
       "    <tr style=\"text-align: right;\">\n",
       "      <th>Ticker</th>\n",
       "      <th>AAPL</th>\n",
       "    </tr>\n",
       "    <tr>\n",
       "      <th>Date</th>\n",
       "      <th></th>\n",
       "    </tr>\n",
       "  </thead>\n",
       "  <tbody>\n",
       "    <tr>\n",
       "      <th>2024-01-02</th>\n",
       "      <td>184.081497</td>\n",
       "    </tr>\n",
       "    <tr>\n",
       "      <th>2024-01-03</th>\n",
       "      <td>182.703186</td>\n",
       "    </tr>\n",
       "    <tr>\n",
       "      <th>2024-01-04</th>\n",
       "      <td>180.382828</td>\n",
       "    </tr>\n",
       "    <tr>\n",
       "      <th>2024-01-05</th>\n",
       "      <td>179.658936</td>\n",
       "    </tr>\n",
       "    <tr>\n",
       "      <th>2024-01-08</th>\n",
       "      <td>184.002197</td>\n",
       "    </tr>\n",
       "    <tr>\n",
       "      <th>...</th>\n",
       "      <td>...</td>\n",
       "    </tr>\n",
       "    <tr>\n",
       "      <th>2024-07-25</th>\n",
       "      <td>216.232193</td>\n",
       "    </tr>\n",
       "    <tr>\n",
       "      <th>2024-07-26</th>\n",
       "      <td>216.699478</td>\n",
       "    </tr>\n",
       "    <tr>\n",
       "      <th>2024-07-29</th>\n",
       "      <td>216.977859</td>\n",
       "    </tr>\n",
       "    <tr>\n",
       "      <th>2024-07-30</th>\n",
       "      <td>217.534622</td>\n",
       "    </tr>\n",
       "    <tr>\n",
       "      <th>2024-07-31</th>\n",
       "      <td>220.795654</td>\n",
       "    </tr>\n",
       "  </tbody>\n",
       "</table>\n",
       "<p>146 rows × 1 columns</p>\n",
       "</div>"
      ],
      "text/plain": [
       "Ticker            AAPL\n",
       "Date                  \n",
       "2024-01-02  184.081497\n",
       "2024-01-03  182.703186\n",
       "2024-01-04  180.382828\n",
       "2024-01-05  179.658936\n",
       "2024-01-08  184.002197\n",
       "...                ...\n",
       "2024-07-25  216.232193\n",
       "2024-07-26  216.699478\n",
       "2024-07-29  216.977859\n",
       "2024-07-30  217.534622\n",
       "2024-07-31  220.795654\n",
       "\n",
       "[146 rows x 1 columns]"
      ]
     },
     "execution_count": 12,
     "metadata": {},
     "output_type": "execute_result"
    }
   ],
   "source": [
    "prices"
   ]
  },
  {
   "cell_type": "code",
   "execution_count": 30,
   "id": "03599cdd",
   "metadata": {},
   "outputs": [],
   "source": [
    "#Calculating 1st order DIFFERENCING\n",
    "prices_diff = prices.diff()"
   ]
  },
  {
   "cell_type": "code",
   "execution_count": 13,
   "id": "3800dc2b",
   "metadata": {},
   "outputs": [
    {
     "data": {
      "text/html": [
       "<div>\n",
       "<style scoped>\n",
       "    .dataframe tbody tr th:only-of-type {\n",
       "        vertical-align: middle;\n",
       "    }\n",
       "\n",
       "    .dataframe tbody tr th {\n",
       "        vertical-align: top;\n",
       "    }\n",
       "\n",
       "    .dataframe thead th {\n",
       "        text-align: right;\n",
       "    }\n",
       "</style>\n",
       "<table border=\"1\" class=\"dataframe\">\n",
       "  <thead>\n",
       "    <tr style=\"text-align: right;\">\n",
       "      <th>Ticker</th>\n",
       "      <th>AAPL</th>\n",
       "    </tr>\n",
       "    <tr>\n",
       "      <th>Date</th>\n",
       "      <th></th>\n",
       "    </tr>\n",
       "  </thead>\n",
       "  <tbody>\n",
       "    <tr>\n",
       "      <th>2024-01-02</th>\n",
       "      <td>NaN</td>\n",
       "    </tr>\n",
       "    <tr>\n",
       "      <th>2024-01-03</th>\n",
       "      <td>NaN</td>\n",
       "    </tr>\n",
       "    <tr>\n",
       "      <th>2024-01-04</th>\n",
       "      <td>-0.942047</td>\n",
       "    </tr>\n",
       "    <tr>\n",
       "      <th>2024-01-05</th>\n",
       "      <td>1.596466</td>\n",
       "    </tr>\n",
       "    <tr>\n",
       "      <th>2024-01-08</th>\n",
       "      <td>5.067154</td>\n",
       "    </tr>\n",
       "    <tr>\n",
       "      <th>...</th>\n",
       "      <td>...</td>\n",
       "    </tr>\n",
       "    <tr>\n",
       "      <th>2024-07-25</th>\n",
       "      <td>5.388657</td>\n",
       "    </tr>\n",
       "    <tr>\n",
       "      <th>2024-07-26</th>\n",
       "      <td>1.511215</td>\n",
       "    </tr>\n",
       "    <tr>\n",
       "      <th>2024-07-29</th>\n",
       "      <td>-0.188904</td>\n",
       "    </tr>\n",
       "    <tr>\n",
       "      <th>2024-07-30</th>\n",
       "      <td>0.278381</td>\n",
       "    </tr>\n",
       "    <tr>\n",
       "      <th>2024-07-31</th>\n",
       "      <td>2.704269</td>\n",
       "    </tr>\n",
       "  </tbody>\n",
       "</table>\n",
       "<p>146 rows × 1 columns</p>\n",
       "</div>"
      ],
      "text/plain": [
       "Ticker          AAPL\n",
       "Date                \n",
       "2024-01-02       NaN\n",
       "2024-01-03       NaN\n",
       "2024-01-04 -0.942047\n",
       "2024-01-05  1.596466\n",
       "2024-01-08  5.067154\n",
       "...              ...\n",
       "2024-07-25  5.388657\n",
       "2024-07-26  1.511215\n",
       "2024-07-29 -0.188904\n",
       "2024-07-30  0.278381\n",
       "2024-07-31  2.704269\n",
       "\n",
       "[146 rows x 1 columns]"
      ]
     },
     "execution_count": 13,
     "metadata": {},
     "output_type": "execute_result"
    }
   ],
   "source": [
    "#Calculating 2nd order DIFFERENCING\n",
    "\n",
    "prices.diff().diff()"
   ]
  },
  {
   "cell_type": "code",
   "execution_count": null,
   "id": "ee7ad60a",
   "metadata": {},
   "outputs": [],
   "source": [
    "#TRANSFORMATION METHOD\n",
    "import numpy as np\n",
    "from scipy import stats\n",
    "\n",
    "#Log transformation\n",
    "prices_log = np.log(prices)\n",
    "\n",
    "#Square root transformation\n",
    "prices_square = np.sqrt(prices)\n",
    "\n",
    "#Box-Cox transformation\n",
    "#Box cox should be strictly positive\n",
    "prices_boxcox, lam = stats.boxcox(prices[prices > 0].to_numpy().ravel()) #Squeezing to 1D array\n",
    "\n"
   ]
  },
  {
   "cell_type": "code",
   "execution_count": 28,
   "id": "997f4d3c",
   "metadata": {},
   "outputs": [
    {
     "name": "stdout",
     "output_type": "stream",
     "text": [
      "ADF Statistic:  -0.5742982465297487\n",
      "p-value:  0.8766844583392759\n",
      "Critical value (1%): -3.476\n",
      "Critical value (5%): -2.882\n",
      "Critical value (10%): -2.578\n"
     ]
    }
   ],
   "source": [
    "adf_test(prices_boxcox)\n",
    "#Even after boxcox, the p value is greater than 0.05 therefore its still non stationary"
   ]
  },
  {
   "cell_type": "code",
   "execution_count": null,
   "id": "2a94ae6d",
   "metadata": {},
   "outputs": [
    {
     "name": "stdout",
     "output_type": "stream",
     "text": [
      "ADF Statistic:  -11.022790369386984\n",
      "p-value:  5.929643944389814e-20\n",
      "Critical value (1%): -3.477\n",
      "Critical value (5%): -2.882\n",
      "Critical value (10%): -2.578\n"
     ]
    }
   ],
   "source": [
    "adf_test(prices_diff.dropna())\n",
    "#With 1st order differencing, the p-value is less than 0.05, so it works"
   ]
  },
  {
   "cell_type": "code",
   "execution_count": 33,
   "id": "0a637d87",
   "metadata": {},
   "outputs": [
    {
     "data": {
      "text/plain": [
       "True"
      ]
     },
     "execution_count": 33,
     "metadata": {},
     "output_type": "execute_result"
    }
   ],
   "source": [
    "5.929643944389814e-20<0.05"
   ]
  },
  {
   "cell_type": "code",
   "execution_count": 43,
   "id": "69528160",
   "metadata": {},
   "outputs": [],
   "source": [
    "#DE-TRENDING METHOD\n",
    "#Using Linear Trend\n",
    "\n",
    "from scipy import signal\n",
    "\n",
    "trend = np.polyfit(np.arange(len(prices)), prices, 1)\n",
    "trendLine = np.polyval(trend, np.arange(len(prices)))\n",
    "prices_detrended_LT = signal.detrend(prices.values)\n"
   ]
  },
  {
   "cell_type": "code",
   "execution_count": 49,
   "id": "f5cf1481",
   "metadata": {},
   "outputs": [
    {
     "data": {
      "image/png": "[encoded data removed]",
      "text/plain": [
       "<Figure size 640x480 with 1 Axes>"
      ]
     },
     "metadata": {},
     "output_type": "display_data"
    }
   ],
   "source": [
    "plt.plot(np.arange(len(prices)), trendLine)\n",
    "plt.plot(np.arange(len(prices)), prices)\n",
    "plt.show()"
   ]
  },
  {
   "cell_type": "code",
   "execution_count": 44,
   "id": "daad3d1d",
   "metadata": {},
   "outputs": [
    {
     "name": "stdout",
     "output_type": "stream",
     "text": [
      "ADF Statistic:  -2.3465873849898826\n",
      "p-value:  0.1573823334678125\n",
      "Critical value (1%): -3.478\n",
      "Critical value (5%): -2.883\n",
      "Critical value (10%): -2.578\n"
     ]
    }
   ],
   "source": [
    "adf_test(prices_detrended_LT)"
   ]
  },
  {
   "cell_type": "code",
   "execution_count": 47,
   "id": "621b5531",
   "metadata": {},
   "outputs": [],
   "source": [
    "#Moving Average\n",
    "\n",
    "window = 12\n",
    "prices_ma = prices.rolling(window=window).mean()\n",
    "prices_detrended = prices - prices_ma\n",
    "prices_detrended_MA = prices_detrended.dropna()\n"
   ]
  },
  {
   "cell_type": "code",
   "execution_count": 50,
   "id": "ff075d5f",
   "metadata": {},
   "outputs": [
    {
     "data": {
      "image/png": "[encoded data removed]",
      "text/plain": [
       "<Figure size 640x480 with 1 Axes>"
      ]
     },
     "metadata": {},
     "output_type": "display_data"
    }
   ],
   "source": [
    "plt.plot(np.arange(len(prices)), prices_ma)\n",
    "plt.plot(np.arange(len(prices)), prices)\n",
    "plt.show()"
   ]
  },
  {
   "cell_type": "code",
   "execution_count": 48,
   "id": "a3fa5ff5",
   "metadata": {},
   "outputs": [
    {
     "name": "stdout",
     "output_type": "stream",
     "text": [
      "ADF Statistic:  -2.8850244390553916\n",
      "p-value:  0.04711737158016378\n",
      "Critical value (1%): -3.480\n",
      "Critical value (5%): -2.883\n",
      "Critical value (10%): -2.578\n"
     ]
    }
   ],
   "source": [
    "adf_test(prices_detrended_MA)"
   ]
  }
 ],
 "metadata": {
  "kernelspec": {
   "display_name": "venv",
   "language": "python",
   "name": "python3"
  },
  "language_info": {
   "codemirror_mode": {
    "name": "ipython",
    "version": 3
   },
   "file_extension": ".py",
   "mimetype": "text/x-python",
   "name": "python",
   "nbconvert_exporter": "python",
   "pygments_lexer": "ipython3",
   "version": "3.13.7"
  }
 },
 "nbformat": 4,
 "nbformat_minor": 5
}
